{
 "cells": [
  {
   "cell_type": "code",
   "execution_count": 2,
   "id": "dfa1d443-bcd0-47f7-8a18-9b938b72e99f",
   "metadata": {},
   "outputs": [],
   "source": [
    "# Import our dependencies\n",
    "import pandas as pd\n",
    "from sklearn.preprocessing import StandardScaler"
   ]
  },
  {
   "cell_type": "code",
   "execution_count": 5,
   "id": "4c64273c-ad69-472f-93a3-4cbaa49af9e1",
   "metadata": {},
   "outputs": [
    {
     "data": {
      "text/html": [
       "<div>\n",
       "<style scoped>\n",
       "    .dataframe tbody tr th:only-of-type {\n",
       "        vertical-align: middle;\n",
       "    }\n",
       "\n",
       "    .dataframe tbody tr th {\n",
       "        vertical-align: top;\n",
       "    }\n",
       "\n",
       "    .dataframe thead th {\n",
       "        text-align: right;\n",
       "    }\n",
       "</style>\n",
       "<table border=\"1\" class=\"dataframe\">\n",
       "  <thead>\n",
       "    <tr style=\"text-align: right;\">\n",
       "      <th></th>\n",
       "      <th>Satisfaction_Level</th>\n",
       "      <th>Num_Projects</th>\n",
       "      <th>Time_Spent</th>\n",
       "      <th>Num_Promotions</th>\n",
       "    </tr>\n",
       "  </thead>\n",
       "  <tbody>\n",
       "    <tr>\n",
       "      <th>0</th>\n",
       "      <td>0.30</td>\n",
       "      <td>1</td>\n",
       "      <td>253</td>\n",
       "      <td>2</td>\n",
       "    </tr>\n",
       "    <tr>\n",
       "      <th>1</th>\n",
       "      <td>0.25</td>\n",
       "      <td>1</td>\n",
       "      <td>200</td>\n",
       "      <td>0</td>\n",
       "    </tr>\n",
       "    <tr>\n",
       "      <th>2</th>\n",
       "      <td>0.90</td>\n",
       "      <td>4</td>\n",
       "      <td>2880</td>\n",
       "      <td>5</td>\n",
       "    </tr>\n",
       "    <tr>\n",
       "      <th>3</th>\n",
       "      <td>0.65</td>\n",
       "      <td>3</td>\n",
       "      <td>1450</td>\n",
       "      <td>3</td>\n",
       "    </tr>\n",
       "    <tr>\n",
       "      <th>4</th>\n",
       "      <td>0.50</td>\n",
       "      <td>2</td>\n",
       "      <td>785</td>\n",
       "      <td>2</td>\n",
       "    </tr>\n",
       "  </tbody>\n",
       "</table>\n",
       "</div>"
      ],
      "text/plain": [
       "   Satisfaction_Level  Num_Projects  Time_Spent  Num_Promotions\n",
       "0                0.30             1         253               2\n",
       "1                0.25             1         200               0\n",
       "2                0.90             4        2880               5\n",
       "3                0.65             3        1450               3\n",
       "4                0.50             2         785               2"
      ]
     },
     "execution_count": 5,
     "metadata": {},
     "output_type": "execute_result"
    }
   ],
   "source": [
    "hr_df = pd.read_csv(\"Resources/hr_dataset.csv\")\n",
    "hr_df.head()"
   ]
  },
  {
   "cell_type": "code",
   "execution_count": 6,
   "id": "a2677101-f9f7-4f5d-94b6-402b4fac1fa1",
   "metadata": {},
   "outputs": [],
   "source": [
    "# Create the StandardScaler instance\n",
    "scaler = StandardScaler()"
   ]
  },
  {
   "cell_type": "code",
   "execution_count": 7,
   "id": "99779dd6-76d8-45ce-a5e0-b686f38da3d5",
   "metadata": {},
   "outputs": [
    {
     "data": {
      "text/html": [
       "<style>#sk-container-id-1 {color: black;background-color: white;}#sk-container-id-1 pre{padding: 0;}#sk-container-id-1 div.sk-toggleable {background-color: white;}#sk-container-id-1 label.sk-toggleable__label {cursor: pointer;display: block;width: 100%;margin-bottom: 0;padding: 0.3em;box-sizing: border-box;text-align: center;}#sk-container-id-1 label.sk-toggleable__label-arrow:before {content: \"▸\";float: left;margin-right: 0.25em;color: #696969;}#sk-container-id-1 label.sk-toggleable__label-arrow:hover:before {color: black;}#sk-container-id-1 div.sk-estimator:hover label.sk-toggleable__label-arrow:before {color: black;}#sk-container-id-1 div.sk-toggleable__content {max-height: 0;max-width: 0;overflow: hidden;text-align: left;background-color: #f0f8ff;}#sk-container-id-1 div.sk-toggleable__content pre {margin: 0.2em;color: black;border-radius: 0.25em;background-color: #f0f8ff;}#sk-container-id-1 input.sk-toggleable__control:checked~div.sk-toggleable__content {max-height: 200px;max-width: 100%;overflow: auto;}#sk-container-id-1 input.sk-toggleable__control:checked~label.sk-toggleable__label-arrow:before {content: \"▾\";}#sk-container-id-1 div.sk-estimator input.sk-toggleable__control:checked~label.sk-toggleable__label {background-color: #d4ebff;}#sk-container-id-1 div.sk-label input.sk-toggleable__control:checked~label.sk-toggleable__label {background-color: #d4ebff;}#sk-container-id-1 input.sk-hidden--visually {border: 0;clip: rect(1px 1px 1px 1px);clip: rect(1px, 1px, 1px, 1px);height: 1px;margin: -1px;overflow: hidden;padding: 0;position: absolute;width: 1px;}#sk-container-id-1 div.sk-estimator {font-family: monospace;background-color: #f0f8ff;border: 1px dotted black;border-radius: 0.25em;box-sizing: border-box;margin-bottom: 0.5em;}#sk-container-id-1 div.sk-estimator:hover {background-color: #d4ebff;}#sk-container-id-1 div.sk-parallel-item::after {content: \"\";width: 100%;border-bottom: 1px solid gray;flex-grow: 1;}#sk-container-id-1 div.sk-label:hover label.sk-toggleable__label {background-color: #d4ebff;}#sk-container-id-1 div.sk-serial::before {content: \"\";position: absolute;border-left: 1px solid gray;box-sizing: border-box;top: 0;bottom: 0;left: 50%;z-index: 0;}#sk-container-id-1 div.sk-serial {display: flex;flex-direction: column;align-items: center;background-color: white;padding-right: 0.2em;padding-left: 0.2em;position: relative;}#sk-container-id-1 div.sk-item {position: relative;z-index: 1;}#sk-container-id-1 div.sk-parallel {display: flex;align-items: stretch;justify-content: center;background-color: white;position: relative;}#sk-container-id-1 div.sk-item::before, #sk-container-id-1 div.sk-parallel-item::before {content: \"\";position: absolute;border-left: 1px solid gray;box-sizing: border-box;top: 0;bottom: 0;left: 50%;z-index: -1;}#sk-container-id-1 div.sk-parallel-item {display: flex;flex-direction: column;z-index: 1;position: relative;background-color: white;}#sk-container-id-1 div.sk-parallel-item:first-child::after {align-self: flex-end;width: 50%;}#sk-container-id-1 div.sk-parallel-item:last-child::after {align-self: flex-start;width: 50%;}#sk-container-id-1 div.sk-parallel-item:only-child::after {width: 0;}#sk-container-id-1 div.sk-dashed-wrapped {border: 1px dashed gray;margin: 0 0.4em 0.5em 0.4em;box-sizing: border-box;padding-bottom: 0.4em;background-color: white;}#sk-container-id-1 div.sk-label label {font-family: monospace;font-weight: bold;display: inline-block;line-height: 1.2em;}#sk-container-id-1 div.sk-label-container {text-align: center;}#sk-container-id-1 div.sk-container {/* jupyter's `normalize.less` sets `[hidden] { display: none; }` but bootstrap.min.css set `[hidden] { display: none !important; }` so we also need the `!important` here to be able to override the default hidden behavior on the sphinx rendered scikit-learn.org. See: https://github.com/scikit-learn/scikit-learn/issues/21755 */display: inline-block !important;position: relative;}#sk-container-id-1 div.sk-text-repr-fallback {display: none;}</style><div id=\"sk-container-id-1\" class=\"sk-top-container\"><div class=\"sk-text-repr-fallback\"><pre>StandardScaler()</pre><b>In a Jupyter environment, please rerun this cell to show the HTML representation or trust the notebook. <br />On GitHub, the HTML representation is unable to render, please try loading this page with nbviewer.org.</b></div><div class=\"sk-container\" hidden><div class=\"sk-item\"><div class=\"sk-estimator sk-toggleable\"><input class=\"sk-toggleable__control sk-hidden--visually\" id=\"sk-estimator-id-1\" type=\"checkbox\" checked><label for=\"sk-estimator-id-1\" class=\"sk-toggleable__label sk-toggleable__label-arrow\">StandardScaler</label><div class=\"sk-toggleable__content\"><pre>StandardScaler()</pre></div></div></div></div></div>"
      ],
      "text/plain": [
       "StandardScaler()"
      ]
     },
     "execution_count": 7,
     "metadata": {},
     "output_type": "execute_result"
    }
   ],
   "source": [
    "# Fit the StandardScaler\n",
    "scaler.fit(hr_df)"
   ]
  },
  {
   "cell_type": "code",
   "execution_count": 9,
   "id": "e6093f57-2733-4f88-91d7-34917ca3f3d8",
   "metadata": {},
   "outputs": [
    {
     "data": {
      "text/plain": [
       "array([[-1.3036154 , -1.16247639, -1.04948051, -0.55865556],\n",
       "       [-1.51294456, -1.16247639, -1.09460336, -1.80488718],\n",
       "       [ 1.20833454,  0.86023253,  1.18708024,  1.31069188],\n",
       "       [ 0.16168873,  0.18599622, -0.03038526,  0.06446026],\n",
       "       [-0.46629875, -0.48824008, -0.59654929, -0.55865556],\n",
       "       [-0.88495708, -0.48824008, -0.67913261, -0.55865556],\n",
       "       [ 0.99900538,  0.86023253,  0.92315415,  0.68757607],\n",
       "       [ 1.20833454,  1.53446883,  1.2517847 ,  0.68757607],\n",
       "       [-1.93160288, -1.83671269, -1.20698479, -1.18177137],\n",
       "       [ 1.62699286,  1.53446883,  1.65022796,  1.93380769],\n",
       "       [ 0.37101789,  0.18599622,  0.48639905,  0.06446026],\n",
       "       [-1.59667623, -1.16247639, -0.95668069, -1.18177137],\n",
       "       [-0.55003042, -1.16247639, -0.77789205, -0.55865556],\n",
       "       [-0.84309124, -0.48824008, -0.81705528, -0.55865556],\n",
       "       [-0.25696959,  0.18599622, -0.68424086, -0.55865556],\n",
       "       [ 0.37101789,  0.86023253,  0.07603655,  0.68757607],\n",
       "       [ 0.16168873,  0.18599622, -0.00484403,  0.06446026],\n",
       "       [ 0.78967622,  0.86023253,  0.76990675,  0.68757607],\n",
       "       [ 1.08273704,  0.86023253,  1.16579588,  1.31069188],\n",
       "       [-0.96868874, -0.48824008, -0.8196094 , -1.18177137],\n",
       "       [-0.04764043, -0.48824008, -0.39221941, -0.55865556],\n",
       "       [ 1.20833454,  1.53446883,  1.50975117,  1.31069188],\n",
       "       [ 1.62699286,  2.20870514,  2.83534123,  2.5569235 ],\n",
       "       [ 0.58034706,  0.18599622, -0.18448404,  0.06446026],\n",
       "       [ 0.78967622,  0.18599622,  0.04623844,  0.06446026],\n",
       "       [-0.63376208, -1.16247639, -0.7497967 , -0.55865556],\n",
       "       [-0.46629875, -0.48824008, -0.55653469, -0.55865556],\n",
       "       [-1.09428624, -1.16247639, -0.90048998, -1.18177137],\n",
       "       [ 0.37101789, -0.48824008, -0.40073316,  0.06446026]])"
      ]
     },
     "execution_count": 9,
     "metadata": {},
     "output_type": "execute_result"
    }
   ],
   "source": [
    "# Scale the data\n",
    "scaled_data = scaler.transform(hr_df)\n",
    "scaled_data"
   ]
  },
  {
   "cell_type": "code",
   "execution_count": 14,
   "id": "8f420a9a-e37d-42d9-928e-389d001aeea8",
   "metadata": {},
   "outputs": [
    {
     "data": {
      "text/html": [
       "<div>\n",
       "<style scoped>\n",
       "    .dataframe tbody tr th:only-of-type {\n",
       "        vertical-align: middle;\n",
       "    }\n",
       "\n",
       "    .dataframe tbody tr th {\n",
       "        vertical-align: top;\n",
       "    }\n",
       "\n",
       "    .dataframe thead th {\n",
       "        text-align: right;\n",
       "    }\n",
       "</style>\n",
       "<table border=\"1\" class=\"dataframe\">\n",
       "  <thead>\n",
       "    <tr style=\"text-align: right;\">\n",
       "      <th></th>\n",
       "      <th>Satisfaction_Level</th>\n",
       "      <th>Num_Projects</th>\n",
       "      <th>Time_Spent</th>\n",
       "      <th>Num_Promotions</th>\n",
       "    </tr>\n",
       "  </thead>\n",
       "  <tbody>\n",
       "    <tr>\n",
       "      <th>0</th>\n",
       "      <td>-1.303615</td>\n",
       "      <td>-1.162476</td>\n",
       "      <td>-1.049481</td>\n",
       "      <td>-0.558656</td>\n",
       "    </tr>\n",
       "    <tr>\n",
       "      <th>1</th>\n",
       "      <td>-1.512945</td>\n",
       "      <td>-1.162476</td>\n",
       "      <td>-1.094603</td>\n",
       "      <td>-1.804887</td>\n",
       "    </tr>\n",
       "    <tr>\n",
       "      <th>2</th>\n",
       "      <td>1.208335</td>\n",
       "      <td>0.860233</td>\n",
       "      <td>1.187080</td>\n",
       "      <td>1.310692</td>\n",
       "    </tr>\n",
       "    <tr>\n",
       "      <th>3</th>\n",
       "      <td>0.161689</td>\n",
       "      <td>0.185996</td>\n",
       "      <td>-0.030385</td>\n",
       "      <td>0.064460</td>\n",
       "    </tr>\n",
       "    <tr>\n",
       "      <th>4</th>\n",
       "      <td>-0.466299</td>\n",
       "      <td>-0.488240</td>\n",
       "      <td>-0.596549</td>\n",
       "      <td>-0.558656</td>\n",
       "    </tr>\n",
       "  </tbody>\n",
       "</table>\n",
       "</div>"
      ],
      "text/plain": [
       "   Satisfaction_Level  Num_Projects  Time_Spent  Num_Promotions\n",
       "0           -1.303615     -1.162476   -1.049481       -0.558656\n",
       "1           -1.512945     -1.162476   -1.094603       -1.804887\n",
       "2            1.208335      0.860233    1.187080        1.310692\n",
       "3            0.161689      0.185996   -0.030385        0.064460\n",
       "4           -0.466299     -0.488240   -0.596549       -0.558656"
      ]
     },
     "execution_count": 14,
     "metadata": {},
     "output_type": "execute_result"
    }
   ],
   "source": [
    "transformed_scaled_data = pd.DataFrame(scaled_data, columns=hr_df.columns) \n",
    "transformed_scaled_data.head()"
   ]
  },
  {
   "cell_type": "code",
   "execution_count": null,
   "id": "c0708be9-b516-44b2-b16d-2c025a270af2",
   "metadata": {},
   "outputs": [],
   "source": []
  },
  {
   "cell_type": "code",
   "execution_count": null,
   "id": "795f9f6d-75c9-480a-b261-87e8964a263f",
   "metadata": {},
   "outputs": [],
   "source": []
  },
  {
   "cell_type": "code",
   "execution_count": null,
   "id": "d2085d85-4e20-4d04-a7d8-d178b1560105",
   "metadata": {},
   "outputs": [],
   "source": []
  }
 ],
 "metadata": {
  "kernelspec": {
   "display_name": "mlenv",
   "language": "python",
   "name": "mlenv"
  },
  "language_info": {
   "codemirror_mode": {
    "name": "ipython",
    "version": 3
   },
   "file_extension": ".py",
   "mimetype": "text/x-python",
   "name": "python",
   "nbconvert_exporter": "python",
   "pygments_lexer": "ipython3",
   "version": "3.10.10"
  }
 },
 "nbformat": 4,
 "nbformat_minor": 5
}
